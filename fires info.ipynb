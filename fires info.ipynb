{
 "cells": [
  {
   "cell_type": "code",
   "execution_count": 1,
   "id": "38487cb6",
   "metadata": {},
   "outputs": [],
   "source": [
    "import sqlite3\n",
    "\n",
    "# Create a SQL connection to our SQLite database\n",
    "con = sqlite3.connect(\"FPA_FOD_20210617.sqlite\")\n",
    "\n"
   ]
  },
  {
   "cell_type": "code",
   "execution_count": 3,
   "id": "65bb346c",
   "metadata": {},
   "outputs": [],
   "source": [
    "import pandas as pd"
   ]
  },
  {
   "cell_type": "code",
   "execution_count": 5,
   "id": "8efad08a",
   "metadata": {},
   "outputs": [],
   "source": [
    "df = pd.read_sql_query(\"SELECT * from Fires\", con)"
   ]
  },
  {
   "cell_type": "code",
   "execution_count": 6,
   "id": "ad16a5c8",
   "metadata": {},
   "outputs": [
    {
     "name": "stdout",
     "output_type": "stream",
     "text": [
      "<class 'pandas.core.frame.DataFrame'>\n",
      "RangeIndex: 2166753 entries, 0 to 2166752\n",
      "Data columns (total 37 columns):\n",
      " #   Column                         Dtype  \n",
      "---  ------                         -----  \n",
      " 0   FOD_ID                         int64  \n",
      " 1   FPA_ID                         object \n",
      " 2   SOURCE_SYSTEM_TYPE             object \n",
      " 3   SOURCE_SYSTEM                  object \n",
      " 4   NWCG_REPORTING_AGENCY          object \n",
      " 5   NWCG_REPORTING_UNIT_ID         object \n",
      " 6   NWCG_REPORTING_UNIT_NAME       object \n",
      " 7   SOURCE_REPORTING_UNIT          object \n",
      " 8   SOURCE_REPORTING_UNIT_NAME     object \n",
      " 9   LOCAL_FIRE_REPORT_ID           object \n",
      " 10  LOCAL_INCIDENT_ID              object \n",
      " 11  FIRE_CODE                      object \n",
      " 12  FIRE_NAME                      object \n",
      " 13  ICS_209_PLUS_INCIDENT_JOIN_ID  object \n",
      " 14  ICS_209_PLUS_COMPLEX_JOIN_ID   object \n",
      " 15  MTBS_ID                        object \n",
      " 16  MTBS_FIRE_NAME                 object \n",
      " 17  COMPLEX_NAME                   object \n",
      " 18  FIRE_YEAR                      int64  \n",
      " 19  DISCOVERY_DATE                 object \n",
      " 20  DISCOVERY_DOY                  int64  \n",
      " 21  DISCOVERY_TIME                 float64\n",
      " 22  NWCG_CAUSE_CLASSIFICATION      object \n",
      " 23  NWCG_GENERAL_CAUSE             object \n",
      " 24  NWCG_CAUSE_AGE_CATEGORY        object \n",
      " 25  CONT_DATE                      object \n",
      " 26  CONT_DOY                       float64\n",
      " 27  CONT_TIME                      float64\n",
      " 28  FIRE_SIZE                      float64\n",
      " 29  FIRE_SIZE_CLASS                object \n",
      " 30  LATITUDE                       float64\n",
      " 31  LONGITUDE                      float64\n",
      " 32  OWNER_DESCR                    object \n",
      " 33  STATE                          object \n",
      " 34  COUNTY                         object \n",
      " 35  FIPS_CODE                      object \n",
      " 36  FIPS_NAME                      object \n",
      "dtypes: float64(6), int64(3), object(28)\n",
      "memory usage: 611.6+ MB\n"
     ]
    }
   ],
   "source": [
    "df.info()"
   ]
  },
  {
   "cell_type": "code",
   "execution_count": 9,
   "id": "b59d9d81",
   "metadata": {},
   "outputs": [],
   "source": [
    "subset = df[(df.FIRE_YEAR >= 2000) & (df.FIRE_YEAR <= 2005)]"
   ]
  },
  {
   "cell_type": "code",
   "execution_count": 10,
   "id": "44d33079",
   "metadata": {},
   "outputs": [
    {
     "name": "stdout",
     "output_type": "stream",
     "text": [
      "<class 'pandas.core.frame.DataFrame'>\n",
      "Int64Index: 490092 entries, 0 to 2124096\n",
      "Data columns (total 37 columns):\n",
      " #   Column                         Non-Null Count   Dtype  \n",
      "---  ------                         --------------   -----  \n",
      " 0   FOD_ID                         490092 non-null  int64  \n",
      " 1   FPA_ID                         490092 non-null  object \n",
      " 2   SOURCE_SYSTEM_TYPE             490092 non-null  object \n",
      " 3   SOURCE_SYSTEM                  490092 non-null  object \n",
      " 4   NWCG_REPORTING_AGENCY          490092 non-null  object \n",
      " 5   NWCG_REPORTING_UNIT_ID         490092 non-null  object \n",
      " 6   NWCG_REPORTING_UNIT_NAME       490092 non-null  object \n",
      " 7   SOURCE_REPORTING_UNIT          490092 non-null  object \n",
      " 8   SOURCE_REPORTING_UNIT_NAME     490092 non-null  object \n",
      " 9   LOCAL_FIRE_REPORT_ID           112337 non-null  object \n",
      " 10  LOCAL_INCIDENT_ID              290823 non-null  object \n",
      " 11  FIRE_CODE                      96309 non-null   object \n",
      " 12  FIRE_NAME                      255846 non-null  object \n",
      " 13  ICS_209_PLUS_INCIDENT_JOIN_ID  6716 non-null    object \n",
      " 14  ICS_209_PLUS_COMPLEX_JOIN_ID   0 non-null       object \n",
      " 15  MTBS_ID                        2961 non-null    object \n",
      " 16  MTBS_FIRE_NAME                 2961 non-null    object \n",
      " 17  COMPLEX_NAME                   1406 non-null    object \n",
      " 18  FIRE_YEAR                      490092 non-null  int64  \n",
      " 19  DISCOVERY_DATE                 490092 non-null  object \n",
      " 20  DISCOVERY_DOY                  490092 non-null  int64  \n",
      " 21  DISCOVERY_TIME                 289393 non-null  float64\n",
      " 22  NWCG_CAUSE_CLASSIFICATION      490092 non-null  object \n",
      " 23  NWCG_GENERAL_CAUSE             490092 non-null  object \n",
      " 24  NWCG_CAUSE_AGE_CATEGORY        18873 non-null   object \n",
      " 25  CONT_DATE                      277205 non-null  object \n",
      " 26  CONT_DOY                       277205 non-null  float64\n",
      " 27  CONT_TIME                      259068 non-null  float64\n",
      " 28  FIRE_SIZE                      490092 non-null  float64\n",
      " 29  FIRE_SIZE_CLASS                490092 non-null  object \n",
      " 30  LATITUDE                       490092 non-null  float64\n",
      " 31  LONGITUDE                      490092 non-null  float64\n",
      " 32  OWNER_DESCR                    490092 non-null  object \n",
      " 33  STATE                          490092 non-null  object \n",
      " 34  COUNTY                         284681 non-null  object \n",
      " 35  FIPS_CODE                      284681 non-null  object \n",
      " 36  FIPS_NAME                      284681 non-null  object \n",
      "dtypes: float64(6), int64(3), object(28)\n",
      "memory usage: 142.1+ MB\n"
     ]
    }
   ],
   "source": [
    "subset.info()"
   ]
  },
  {
   "cell_type": "code",
   "execution_count": 12,
   "id": "1d3dff54",
   "metadata": {},
   "outputs": [
    {
     "name": "stderr",
     "output_type": "stream",
     "text": [
      "<ipython-input-12-630b9bfceee7>:1: SettingWithCopyWarning: \n",
      "A value is trying to be set on a copy of a slice from a DataFrame.\n",
      "Try using .loc[row_indexer,col_indexer] = value instead\n",
      "\n",
      "See the caveats in the documentation: https://pandas.pydata.org/pandas-docs/stable/user_guide/indexing.html#returning-a-view-versus-a-copy\n",
      "  subset[\"DISCOVERY_DATE\"] = pd.to_datetime(subset[\"DISCOVERY_DATE\"])\n"
     ]
    }
   ],
   "source": [
    "subset[\"DISCOVERY_DATE\"] = pd.to_datetime(subset[\"DISCOVERY_DATE\"])"
   ]
  },
  {
   "cell_type": "code",
   "execution_count": 13,
   "id": "b5a257bf",
   "metadata": {},
   "outputs": [
    {
     "name": "stdout",
     "output_type": "stream",
     "text": [
      "<class 'pandas.core.frame.DataFrame'>\n",
      "Int64Index: 490092 entries, 0 to 2124096\n",
      "Data columns (total 37 columns):\n",
      " #   Column                         Non-Null Count   Dtype         \n",
      "---  ------                         --------------   -----         \n",
      " 0   FOD_ID                         490092 non-null  int64         \n",
      " 1   FPA_ID                         490092 non-null  object        \n",
      " 2   SOURCE_SYSTEM_TYPE             490092 non-null  object        \n",
      " 3   SOURCE_SYSTEM                  490092 non-null  object        \n",
      " 4   NWCG_REPORTING_AGENCY          490092 non-null  object        \n",
      " 5   NWCG_REPORTING_UNIT_ID         490092 non-null  object        \n",
      " 6   NWCG_REPORTING_UNIT_NAME       490092 non-null  object        \n",
      " 7   SOURCE_REPORTING_UNIT          490092 non-null  object        \n",
      " 8   SOURCE_REPORTING_UNIT_NAME     490092 non-null  object        \n",
      " 9   LOCAL_FIRE_REPORT_ID           112337 non-null  object        \n",
      " 10  LOCAL_INCIDENT_ID              290823 non-null  object        \n",
      " 11  FIRE_CODE                      96309 non-null   object        \n",
      " 12  FIRE_NAME                      255846 non-null  object        \n",
      " 13  ICS_209_PLUS_INCIDENT_JOIN_ID  6716 non-null    object        \n",
      " 14  ICS_209_PLUS_COMPLEX_JOIN_ID   0 non-null       object        \n",
      " 15  MTBS_ID                        2961 non-null    object        \n",
      " 16  MTBS_FIRE_NAME                 2961 non-null    object        \n",
      " 17  COMPLEX_NAME                   1406 non-null    object        \n",
      " 18  FIRE_YEAR                      490092 non-null  int64         \n",
      " 19  DISCOVERY_DATE                 490092 non-null  datetime64[ns]\n",
      " 20  DISCOVERY_DOY                  490092 non-null  int64         \n",
      " 21  DISCOVERY_TIME                 289393 non-null  float64       \n",
      " 22  NWCG_CAUSE_CLASSIFICATION      490092 non-null  object        \n",
      " 23  NWCG_GENERAL_CAUSE             490092 non-null  object        \n",
      " 24  NWCG_CAUSE_AGE_CATEGORY        18873 non-null   object        \n",
      " 25  CONT_DATE                      277205 non-null  object        \n",
      " 26  CONT_DOY                       277205 non-null  float64       \n",
      " 27  CONT_TIME                      259068 non-null  float64       \n",
      " 28  FIRE_SIZE                      490092 non-null  float64       \n",
      " 29  FIRE_SIZE_CLASS                490092 non-null  object        \n",
      " 30  LATITUDE                       490092 non-null  float64       \n",
      " 31  LONGITUDE                      490092 non-null  float64       \n",
      " 32  OWNER_DESCR                    490092 non-null  object        \n",
      " 33  STATE                          490092 non-null  object        \n",
      " 34  COUNTY                         284681 non-null  object        \n",
      " 35  FIPS_CODE                      284681 non-null  object        \n",
      " 36  FIPS_NAME                      284681 non-null  object        \n",
      "dtypes: datetime64[ns](1), float64(6), int64(3), object(27)\n",
      "memory usage: 142.1+ MB\n"
     ]
    }
   ],
   "source": [
    "subset.info()"
   ]
  },
  {
   "cell_type": "code",
   "execution_count": 14,
   "id": "feebeef4",
   "metadata": {},
   "outputs": [],
   "source": [
    "\n",
    "con.close()"
   ]
  },
  {
   "cell_type": "code",
   "execution_count": 16,
   "id": "996ec829",
   "metadata": {},
   "outputs": [],
   "source": [
    "\n",
    "subset.to_pickle(\"fires_df.pkl\")"
   ]
  },
  {
   "cell_type": "code",
   "execution_count": null,
   "id": "989c696f",
   "metadata": {},
   "outputs": [],
   "source": []
  }
 ],
 "metadata": {
  "kernelspec": {
   "display_name": "Python (engineering)",
   "language": "python",
   "name": "engineering"
  },
  "language_info": {
   "codemirror_mode": {
    "name": "ipython",
    "version": 3
   },
   "file_extension": ".py",
   "mimetype": "text/x-python",
   "name": "python",
   "nbconvert_exporter": "python",
   "pygments_lexer": "ipython3",
   "version": "3.8.8"
  }
 },
 "nbformat": 4,
 "nbformat_minor": 5
}
